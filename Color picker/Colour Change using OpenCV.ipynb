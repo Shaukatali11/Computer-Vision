{
 "cells": [
  {
   "cell_type": "markdown",
   "id": "d01d8175",
   "metadata": {},
   "source": [
    "# Application with OpenCV that displays a color chart and dynamically updates according to the positions of the HSV trackbars"
   ]
  },
  {
   "cell_type": "code",
   "execution_count": null,
   "id": "9140fed6",
   "metadata": {},
   "outputs": [],
   "source": []
  },
  {
   "cell_type": "markdown",
   "id": "0c8231a2",
   "metadata": {},
   "source": [
    "Create a simple application with OpenCV that displays a color chart and dynamically updates according to the positions of the HSV trackbars. We will create a window with trackbars for adjusting Hue, Saturation, and Value, and a color chart that reflects the selected HSV range."
   ]
  },
  {
   "cell_type": "code",
   "execution_count": 2,
   "id": "69f11027",
   "metadata": {},
   "outputs": [],
   "source": [
    "import cv2\n",
    "import numpy as np\n",
    "\n",
    "def nothing(x):\n",
    "    pass\n",
    "\n",
    "# Create a window\n",
    "cv2.namedWindow('Color Picker')\n",
    "\n",
    "# Create trackbars for color change\n",
    "cv2.createTrackbar('HMin', 'Color Picker', 0, 179, nothing)\n",
    "cv2.createTrackbar('SMin', 'Color Picker', 0, 255, nothing)\n",
    "cv2.createTrackbar('VMin', 'Color Picker', 0, 255, nothing)\n",
    "cv2.createTrackbar('HMax', 'Color Picker', 0, 179, nothing)\n",
    "cv2.createTrackbar('SMax', 'Color Picker', 0, 255, nothing)\n",
    "cv2.createTrackbar('VMax', 'Color Picker', 0, 255, nothing)\n",
    "\n",
    "# Set default value for Max HSV trackbars\n",
    "cv2.setTrackbarPos('HMax', 'Color Picker', 179)\n",
    "cv2.setTrackbarPos('SMax', 'Color Picker', 255)\n",
    "cv2.setTrackbarPos('VMax', 'Color Picker', 255)\n",
    "\n",
    "# Initialize HSV min/max values\n",
    "hMin = sMin = vMin = hMax = sMax = vMax = 0\n",
    "phMin = psMin = pvMin = phMax = psMax = pvMax = 0\n",
    "\n",
    "while True:\n",
    "    # Get current positions of all trackbars\n",
    "    hMin = cv2.getTrackbarPos('HMin', 'Color Picker')\n",
    "    sMin = cv2.getTrackbarPos('SMin', 'Color Picker')\n",
    "    vMin = cv2.getTrackbarPos('VMin', 'Color Picker')\n",
    "    hMax = cv2.getTrackbarPos('HMax', 'Color Picker')\n",
    "    sMax = cv2.getTrackbarPos('SMax', 'Color Picker')\n",
    "    vMax = cv2.getTrackbarPos('VMax', 'Color Picker')\n",
    "    \n",
    "    # Create a color chart\n",
    "    color_chart = np.zeros((300, 500, 3), dtype=np.uint8)\n",
    "    for i in range(500):\n",
    "        for j in range(300):\n",
    "            h = int(hMin + (hMax - hMin) * i / 499)\n",
    "            s = int(sMin + (sMax - sMin) * j / 299)\n",
    "            v = int(vMin + (vMax - vMin) * j / 299)\n",
    "            color = cv2.cvtColor(np.uint8([[[h, s, v]]]), cv2.COLOR_HSV2BGR)\n",
    "            color_chart[j, i] = color[0][0]\n",
    "    \n",
    "    # Display the color chart\n",
    "    cv2.imshow('Color Chart', color_chart)\n",
    "    \n",
    "    # Break the loop when 'q' key is pressed\n",
    "    if cv2.waitKey(1) & 0xFF == ord('q'):\n",
    "        break\n",
    "\n",
    "# Release resources and close windows\n",
    "cv2.destroyAllWindows()\n"
   ]
  },
  {
   "cell_type": "code",
   "execution_count": null,
   "id": "3932501f",
   "metadata": {},
   "outputs": [],
   "source": []
  },
  {
   "cell_type": "markdown",
   "id": "ed17c918",
   "metadata": {},
   "source": [
    "1. Import Libraries: Import necessary libraries cv2 for OpenCV functions and numpy for handling arrays.\n",
    "\n",
    "2. Create a Window: A window named 'Color Picker' is created to display the trackbars.\n",
    "\n",
    "3. Create Trackbars: Six trackbars are created for the minimum and maximum HSV values:\n",
    "\n",
    "4a. HMin, SMin, VMin for the minimum values of Hue, Saturation, and Value.\n",
    "\n",
    "4b. HMax, SMax, VMax for the maximum values.\n",
    "\n",
    "4c. Set Default Trackbar Positions: Default positions for HMax, SMax, and VMax are set to their maximum values.\n",
    "\n",
    "5. Initialize HSV Values: Initialize variables to store the HSV values from the trackbars.\n",
    "\n",
    "==> Main Loop:\n",
    "\n",
    "1.1. Get the current positions of all the trackbars to get the HSV values.\n",
    "\n",
    "1.2. Create a color chart using the specified HSV range.\n",
    "\n",
    "1.3. The nested loops iterate over the width (500 pixels) and height (300 pixels) of the color chart. For each pixel, the corresponding color in the HSV range is calculated and converted to BGR using cv2.cvtColor.\n",
    "\n",
    "1.4. The calculated color is assigned to the pixel in the color_chart.\n",
    "\n",
    "1.5. Display the color chart using cv2.imshow('Color Chart', color_chart), updating in real-time as the trackbar positions change.\n",
    "\n",
    "1.6. Exit on Key Press: Break the loop and release resources when the 'q' key is pressed.\n",
    "\n",
    "==> Release Resources: Close all OpenCV windows when done."
   ]
  },
  {
   "cell_type": "code",
   "execution_count": null,
   "id": "c2228689",
   "metadata": {},
   "outputs": [],
   "source": []
  }
 ],
 "metadata": {
  "kernelspec": {
   "display_name": "Python 3 (ipykernel)",
   "language": "python",
   "name": "python3"
  },
  "language_info": {
   "codemirror_mode": {
    "name": "ipython",
    "version": 3
   },
   "file_extension": ".py",
   "mimetype": "text/x-python",
   "name": "python",
   "nbconvert_exporter": "python",
   "pygments_lexer": "ipython3",
   "version": "3.9.7"
  }
 },
 "nbformat": 4,
 "nbformat_minor": 5
}
