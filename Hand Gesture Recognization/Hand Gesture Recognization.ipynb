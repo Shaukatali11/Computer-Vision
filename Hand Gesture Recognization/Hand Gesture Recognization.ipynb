{
 "cells": [
  {
   "cell_type": "markdown",
   "id": "5fd1f90d",
   "metadata": {},
   "source": [
    "# Hand Gesture Recognition"
   ]
  },
  {
   "cell_type": "markdown",
   "id": "b3a9786e",
   "metadata": {},
   "source": [
    "This project uses OpenCV to recognize hand gestures. The user places their hand in front of the camera, and the algorithm identifies and counts the number of fingers being shown."
   ]
  },
  {
   "cell_type": "code",
   "execution_count": 3,
   "id": "c763970d",
   "metadata": {},
   "outputs": [],
   "source": [
    "import cv2\n",
    "import numpy as np\n",
    "import math\n",
    "\n",
    "cap = cv2.VideoCapture(0)\n",
    "\n",
    "while cap.isOpened():\n",
    "    ret, frame = cap.read()\n",
    "    if not ret:\n",
    "        break\n",
    "\n",
    "    # Flip the frame horizontally\n",
    "    frame = cv2.flip(frame, 1)\n",
    "\n",
    "    # Define the region of interest (ROI) for hand detection\n",
    "    roi = frame[100:300, 100:300]\n",
    "    cv2.rectangle(frame, (50, 50), (300, 300), (0, 255, 0), 0)\n",
    "    \n",
    "    # Convert ROI to HSV color space\n",
    "    hsv = cv2.cvtColor(roi, cv2.COLOR_BGR2HSV)\n",
    "\n",
    "    # Create a binary mask\n",
    "    lower_skin = np.array([0, 20, 70], dtype=np.uint8)\n",
    "    upper_skin = np.array([20, 255, 255], dtype=np.uint8)\n",
    "    mask = cv2.inRange(hsv, lower_skin, upper_skin)\n",
    "\n",
    "    # Apply a series of erosions and dilations to remove noise\n",
    "    mask = cv2.erode(mask, None, iterations=2)\n",
    "    mask = cv2.dilate(mask, None, iterations=2)\n",
    "\n",
    "    # Find contours\n",
    "    contours, _ = cv2.findContours(mask, cv2.RETR_TREE, cv2.CHAIN_APPROX_SIMPLE)\n",
    "    if contours:\n",
    "        cnt = max(contours, key=lambda x: cv2.contourArea(x))\n",
    "        hull = cv2.convexHull(cnt)\n",
    "        \n",
    "        # Draw contours and hull\n",
    "        cv2.drawContours(roi, [cnt], -1, (0, 255, 0), 0)\n",
    "        cv2.drawContours(roi, [hull], -1, (0, 0, 255), 0)\n",
    "\n",
    "        # Convexity defects\n",
    "        hull = cv2.convexHull(cnt, returnPoints=False)\n",
    "        defects = cv2.convexityDefects(cnt, hull)\n",
    "\n",
    "        count_defects = 0\n",
    "\n",
    "        if defects is not None:\n",
    "            for i in range(defects.shape[0]):\n",
    "                s, e, f, d = defects[i, 0]\n",
    "                start = tuple(cnt[s][0])\n",
    "                end = tuple(cnt[e][0])\n",
    "                far = tuple(cnt[f][0])\n",
    "\n",
    "                # Calculate the angle\n",
    "                a = math.sqrt((end[0] - start[0]) ** 2 + (end[1] - start[1]) ** 2)\n",
    "                b = math.sqrt((far[0] - start[0]) ** 2 + (far[1] - start[1]) ** 2)\n",
    "                c = math.sqrt((end[0] - far[0]) ** 2 + (end[1] - far[1]) ** 2)\n",
    "                angle = math.acos((b ** 2 + c ** 2 - a ** 2) / (2 * b * c)) * 57\n",
    "\n",
    "                if angle <= 90:\n",
    "                    count_defects += 1\n",
    "                    cv2.circle(roi, far, 1, [0, 0, 255], -1)\n",
    "\n",
    "        if count_defects == 0:\n",
    "            cv2.putText(frame, \"1\", (50, 50), cv2.FONT_HERSHEY_SIMPLEX, 2, 2, 2)\n",
    "        elif count_defects == 1:\n",
    "            cv2.putText(frame, \"2\", (50, 50), cv2.FONT_HERSHEY_SIMPLEX, 2, 2, 2)\n",
    "        elif count_defects == 2:\n",
    "            cv2.putText(frame, \"3\", (50, 50), cv2.FONT_HERSHEY_SIMPLEX, 2, 2, 2)\n",
    "        elif count_defects == 3:\n",
    "            cv2.putText(frame, \"4\", (50, 50), cv2.FONT_HERSHEY_SIMPLEX, 2, 2, 2)\n",
    "        elif count_defects == 4:\n",
    "            cv2.putText(frame, \"5\", (50, 50), cv2.FONT_HERSHEY_SIMPLEX, 2, 2, 2)\n",
    "\n",
    "    cv2.imshow('Hand Gesture Recognition', frame)\n",
    "\n",
    "    if cv2.waitKey(1) & 0xFF == 27:  # Press 'Esc' to exit\n",
    "        break\n",
    "\n",
    "cap.release()\n",
    "cv2.destroyAllWindows()\n"
   ]
  },
  {
   "cell_type": "code",
   "execution_count": null,
   "id": "4e799b07",
   "metadata": {},
   "outputs": [],
   "source": []
  }
 ],
 "metadata": {
  "kernelspec": {
   "display_name": "Python 3 (ipykernel)",
   "language": "python",
   "name": "python3"
  },
  "language_info": {
   "codemirror_mode": {
    "name": "ipython",
    "version": 3
   },
   "file_extension": ".py",
   "mimetype": "text/x-python",
   "name": "python",
   "nbconvert_exporter": "python",
   "pygments_lexer": "ipython3",
   "version": "3.9.7"
  }
 },
 "nbformat": 4,
 "nbformat_minor": 5
}
